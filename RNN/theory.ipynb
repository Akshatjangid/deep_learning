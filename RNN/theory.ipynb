{
 "cells": [
  {
   "cell_type": "markdown",
   "id": "7cb6bf3f",
   "metadata": {},
   "source": [
    "# RNN"
   ]
  },
  {
   "cell_type": "markdown",
   "id": "7e8aece9",
   "metadata": {},
   "source": [
    "## RNN->> sequential --> order impo,semantic meaning\n",
    "# Types...\n",
    "## 1. Simple RNN--> Vanila RNN\n",
    "## 2. LSTM--> https://colah.github.io/posts/2015-08-Understanding-LSTMs/\n",
    "## 3. GRU\n",
    "## 4. Encoder Decoder\n",
    "## 5. Transformer\n",
    "## 6. Bi-Dorectional RNN"
   ]
  },
  {
   "cell_type": "markdown",
   "id": "e352aa7e",
   "metadata": {},
   "source": [
    "# Exeample\n",
    "\n",
    "## Chat Bot App --> Q & A\n",
    "## Language Translation \n",
    "## Text Genrstion --> A sentence --> Completion Of Sentence"
   ]
  },
  {
   "cell_type": "markdown",
   "id": "e24f3bf3",
   "metadata": {},
   "source": [
    "<img src=\"img.jpg\" height=400>\n",
    "<img src=\"img1.png\" height=300>\n"
   ]
  },
  {
   "cell_type": "markdown",
   "id": "b3f3b18c",
   "metadata": {},
   "source": [
    "# Arichetecture"
   ]
  },
  {
   "cell_type": "markdown",
   "id": "ec127079",
   "metadata": {},
   "source": [
    "<img src=\"img2.jpg\" height=250>\n",
    "<img src=\"img.png\" height=250>\n",
    "<img src=\"img2.png\" height=250>\n",
    "\n",
    "\n",
    "# Fordward Propogation"
   ]
  },
  {
   "cell_type": "markdown",
   "id": "172b7e83",
   "metadata": {},
   "source": [
    "<img src=\"img3.jpg\" height=300>\n",
    "<img src=\"img3.png\" height=300>\n",
    "\n",
    "# Backward Propogation"
   ]
  },
  {
   "cell_type": "markdown",
   "id": "2ea88114",
   "metadata": {},
   "source": []
  }
 ],
 "metadata": {
  "kernelspec": {
   "display_name": "Python 3",
   "language": "python",
   "name": "python3"
  },
  "language_info": {
   "name": "python",
   "version": "3.10.11"
  }
 },
 "nbformat": 4,
 "nbformat_minor": 5
}
