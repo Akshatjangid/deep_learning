{
 "cells": [
  {
   "cell_type": "markdown",
   "id": "9a7c2721",
   "metadata": {},
   "source": [
    "# NLP--> Natural Language Processing\n"
   ]
  },
  {
   "cell_type": "code",
   "execution_count": 6,
   "id": "33ceb2f8",
   "metadata": {},
   "outputs": [],
   "source": [
    "##stemming -- work od this is to reduce the work to its root word\n",
    "##plays playing played --- play\n",
    "## runs , running, run --run"
   ]
  },
  {
   "cell_type": "code",
   "execution_count": 7,
   "id": "f23cc4ad",
   "metadata": {},
   "outputs": [],
   "source": [
    "words = [\"plays\", \"playing\" , \"played\",\"run\",\"runs\" , \"running\",\"happened\" , \"happening\" , \"happen\",\"History\"]"
   ]
  },
  {
   "cell_type": "code",
   "execution_count": 8,
   "id": "cf9959f2",
   "metadata": {},
   "outputs": [
    {
     "name": "stdout",
     "output_type": "stream",
     "text": [
      "plays --> play\n",
      "playing --> play\n",
      "played --> play\n",
      "run --> run\n",
      "runs --> run\n",
      "running --> run\n",
      "happened --> happen\n",
      "happening --> happen\n",
      "happen --> happen\n",
      "History --> histori\n"
     ]
    }
   ],
   "source": [
    "## porter stemmer:--\n",
    "## the output word may not be always be a valid english word\n",
    "from nltk.stem import PorterStemmer\n",
    "ps=PorterStemmer()\n",
    "\n",
    "for word in words:\n",
    "    print(word,'-->',ps.stem(word))\n"
   ]
  },
  {
   "cell_type": "code",
   "execution_count": 9,
   "id": "3b8f1e6c",
   "metadata": {},
   "outputs": [
    {
     "name": "stdout",
     "output_type": "stream",
     "text": [
      "plays ------> play\n",
      "playing ------> play\n",
      "played ------> played\n",
      "run ------> run\n",
      "runs ------> run\n",
      "running ------> runn\n",
      "happened ------> happened\n",
      "happening ------> happen\n",
      "happen ------> happen\n",
      "History ------> History\n"
     ]
    }
   ],
   "source": [
    "# regex or regular expression\n",
    "# \n",
    "from nltk.stem import RegexpStemmer\n",
    "rs=RegexpStemmer(\"ing$|s$|es$|able$|ible$\")\n",
    "for word in words:\n",
    "    print(word,\"------>\",rs.stem(word))"
   ]
  },
  {
   "cell_type": "code",
   "execution_count": 10,
   "id": "5167cf11",
   "metadata": {},
   "outputs": [
    {
     "name": "stdout",
     "output_type": "stream",
     "text": [
      "plays -----> play\n",
      "playing -----> play\n",
      "played -----> play\n",
      "run -----> run\n",
      "runs -----> run\n",
      "running -----> run\n",
      "happened -----> happen\n",
      "happening -----> happen\n",
      "happen -----> happen\n",
      "History -----> histori\n"
     ]
    }
   ],
   "source": [
    "## snow ball stemmer\n",
    "from nltk.stem.snowball import SnowballStemmer\n",
    "ss=SnowballStemmer(\"english\")\n",
    "for word in words:\n",
    "    print(word,\"----->\",ss.stem(word))"
   ]
  },
  {
   "cell_type": "code",
   "execution_count": null,
   "id": "6b413367",
   "metadata": {},
   "outputs": [],
   "source": []
  }
 ],
 "metadata": {
  "kernelspec": {
   "display_name": "Python 3",
   "language": "python",
   "name": "python3"
  },
  "language_info": {
   "codemirror_mode": {
    "name": "ipython",
    "version": 3
   },
   "file_extension": ".py",
   "mimetype": "text/x-python",
   "name": "python",
   "nbconvert_exporter": "python",
   "pygments_lexer": "ipython3",
   "version": "3.10.11"
  }
 },
 "nbformat": 4,
 "nbformat_minor": 5
}
