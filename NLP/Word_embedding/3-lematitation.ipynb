{
 "cells": [
  {
   "cell_type": "markdown",
   "id": "8c2e178f",
   "metadata": {},
   "source": [
    "# Lematization"
   ]
  },
  {
   "cell_type": "code",
   "execution_count": 1,
   "id": "aa10e87e",
   "metadata": {},
   "outputs": [],
   "source": [
    "## work of this is to reduce  the word to its root dictionary form\n",
    "## using grammers of the word\n",
    "## better -- good\n",
    "## running -- run\n"
   ]
  },
  {
   "cell_type": "code",
   "execution_count": 3,
   "id": "24828985",
   "metadata": {},
   "outputs": [
    {
     "name": "stderr",
     "output_type": "stream",
     "text": [
      "[nltk_data] Downloading package wordnet to\n",
      "[nltk_data]     C:\\Users\\Akshat\\AppData\\Roaming\\nltk_data...\n",
      "[nltk_data] Downloading package omw-1.4 to\n",
      "[nltk_data]     C:\\Users\\Akshat\\AppData\\Roaming\\nltk_data...\n"
     ]
    },
    {
     "data": {
      "text/plain": [
       "True"
      ]
     },
     "execution_count": 3,
     "metadata": {},
     "output_type": "execute_result"
    }
   ],
   "source": [
    "import nltk\n",
    "nltk.download('wordnet')\n",
    "nltk.download('omw-1.4')  # Optional, helps in better lemmatization\n"
   ]
  },
  {
   "cell_type": "code",
   "execution_count": null,
   "id": "382fd1df",
   "metadata": {},
   "outputs": [],
   "source": [
    "# words = [\"plays\", \"playing\" , \"played\",\"run\",\"runs\" , \"running\",\"happened\" , \"happening\" , \"happen\",\"History\"]\n"
   ]
  },
  {
   "cell_type": "code",
   "execution_count": null,
   "id": "4e1e6bda",
   "metadata": {},
   "outputs": [
    {
     "name": "stdout",
     "output_type": "stream",
     "text": [
      "plays --> play\n",
      "playing --> play\n",
      "played --> play\n",
      "run --> run\n",
      "runs --> run\n",
      "running --> run\n",
      "happened --> happen\n",
      "happening --> happen\n",
      "happen --> happen\n",
      "History --> histori\n"
     ]
    }
   ],
   "source": [
    "# ## porter stemmer:--\n",
    "# ## the output word may not be always be a valid english word\n",
    "# from nltk.stem import WordNetLemmatizer\n",
    "\n",
    "# lemmatizer = WordNetLemmatizer()\n",
    "# ps = nltk.stem.PorterStemmer()\n",
    "\n",
    "# for word in words:\n",
    "#     print(word,'-->',ps.stem(word))\n"
   ]
  },
  {
   "cell_type": "code",
   "execution_count": null,
   "id": "8e84134b",
   "metadata": {},
   "outputs": [
    {
     "name": "stdout",
     "output_type": "stream",
     "text": [
      "run\n",
      "good\n",
      "good\n"
     ]
    }
   ],
   "source": [
    "from nltk.stem import WordNetLemmatizer\n",
    "\n",
    "lemmatizer = WordNetLemmatizer()\n",
    "print(lemmatizer.lemmatize(\"running\",pos=\"v\"))\n",
    "print(lemmatizer.lemmatize(\"better\",pos=\"a\"))\n",
    "print(lemmatizer.lemmatize(\"good\",pos=\"a\"))\n"
   ]
  },
  {
   "cell_type": "code",
   "execution_count": null,
   "id": "b55beeda",
   "metadata": {},
   "outputs": [],
   "source": []
  }
 ],
 "metadata": {
  "kernelspec": {
   "display_name": "Python 3",
   "language": "python",
   "name": "python3"
  },
  "language_info": {
   "codemirror_mode": {
    "name": "ipython",
    "version": 3
   },
   "file_extension": ".py",
   "mimetype": "text/x-python",
   "name": "python",
   "nbconvert_exporter": "python",
   "pygments_lexer": "ipython3",
   "version": "3.10.11"
  }
 },
 "nbformat": 4,
 "nbformat_minor": 5
}
