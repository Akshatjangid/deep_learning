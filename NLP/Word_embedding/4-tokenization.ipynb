{
 "cells": [
  {
   "cell_type": "markdown",
   "id": "388e577c",
   "metadata": {},
   "source": [
    "# Tokenization"
   ]
  },
  {
   "cell_type": "code",
   "execution_count": 15,
   "id": "f6a73433",
   "metadata": {},
   "outputs": [],
   "source": [
    "# it will divide the text into sentences and sentences into words\n",
    "corpus=\"With Text’s AI-powered live chat, chatbot, and help desk software, customer service becomes effortless. Support runs 24/7, customers are happy, and your team stays efficient.\"\n",
    "corpus=corpus.lower()"
   ]
  },
  {
   "cell_type": "code",
   "execution_count": 16,
   "id": "376b8b3f",
   "metadata": {},
   "outputs": [],
   "source": [
    "from nltk.tokenize import sent_tokenize, word_tokenize\n",
    "\n"
   ]
  },
  {
   "cell_type": "code",
   "execution_count": 21,
   "id": "2a9823bf",
   "metadata": {},
   "outputs": [
    {
     "name": "stderr",
     "output_type": "stream",
     "text": [
      "[nltk_data] Downloading package punkt_tab to\n",
      "[nltk_data]     C:\\Users\\Akshat\\AppData\\Roaming\\nltk_data...\n",
      "[nltk_data]   Unzipping tokenizers\\punkt_tab.zip.\n"
     ]
    },
    {
     "data": {
      "text/plain": [
       "True"
      ]
     },
     "execution_count": 21,
     "metadata": {},
     "output_type": "execute_result"
    }
   ],
   "source": [
    "import nltk\n",
    "\n",
    "# Force download again\n",
    "nltk.download('punkt_tab')\n"
   ]
  },
  {
   "cell_type": "code",
   "execution_count": 22,
   "id": "64d21c01",
   "metadata": {},
   "outputs": [
    {
     "name": "stdout",
     "output_type": "stream",
     "text": [
      "with text’s ai-powered live chat, chatbot, and help desk software, customer service becomes effortless.\n",
      "\n",
      "\n",
      "['with', 'text', '’', 's', 'ai-powered', 'live', 'chat', ',', 'chatbot', ',', 'and', 'help', 'desk', 'software', ',', 'customer', 'service', 'becomes', 'effortless', '.']\n",
      "\n",
      "\n",
      "support runs 24/7, customers are happy, and your team stays efficient.\n",
      "\n",
      "\n",
      "['support', 'runs', '24/7', ',', 'customers', 'are', 'happy', ',', 'and', 'your', 'team', 'stays', 'efficient', '.']\n",
      "\n",
      "\n"
     ]
    }
   ],
   "source": [
    "doc=sent_tokenize(corpus)\n",
    "for i in doc:\n",
    "    print(i)\n",
    "    print('\\n')\n",
    "    print(word_tokenize(i))\n",
    "    print('\\n')\n",
    "    \n",
    "\n",
    "    "
   ]
  },
  {
   "cell_type": "code",
   "execution_count": 23,
   "id": "64fbc3e3",
   "metadata": {},
   "outputs": [
    {
     "data": {
      "text/plain": [
       "['with',\n",
       " 'text',\n",
       " '’',\n",
       " 's',\n",
       " 'ai',\n",
       " '-',\n",
       " 'powered',\n",
       " 'live',\n",
       " 'chat',\n",
       " ',',\n",
       " 'chatbot',\n",
       " ',',\n",
       " 'and',\n",
       " 'help',\n",
       " 'desk',\n",
       " 'software',\n",
       " ',',\n",
       " 'customer',\n",
       " 'service',\n",
       " 'becomes',\n",
       " 'effortless',\n",
       " '.',\n",
       " 'support',\n",
       " 'runs',\n",
       " '24',\n",
       " '/',\n",
       " '7',\n",
       " ',',\n",
       " 'customers',\n",
       " 'are',\n",
       " 'happy',\n",
       " ',',\n",
       " 'and',\n",
       " 'your',\n",
       " 'team',\n",
       " 'stays',\n",
       " 'efficient',\n",
       " '.']"
      ]
     },
     "execution_count": 23,
     "metadata": {},
     "output_type": "execute_result"
    }
   ],
   "source": [
    "# word punctuation tokenization --> it will divide the text into sentences and sentences into words\n",
    "from nltk.tokenize import wordpunct_tokenize\n",
    "wordpunct_tokenize(corpus)"
   ]
  },
  {
   "cell_type": "code",
   "execution_count": 25,
   "id": "a675579d",
   "metadata": {},
   "outputs": [
    {
     "data": {
      "text/plain": [
       "['with',\n",
       " 'text’s',\n",
       " 'ai-powered',\n",
       " 'live',\n",
       " 'chat',\n",
       " ',',\n",
       " 'chatbot',\n",
       " ',',\n",
       " 'and',\n",
       " 'help',\n",
       " 'desk',\n",
       " 'software',\n",
       " ',',\n",
       " 'customer',\n",
       " 'service',\n",
       " 'becomes',\n",
       " 'effortless.',\n",
       " 'support',\n",
       " 'runs',\n",
       " '24/7',\n",
       " ',',\n",
       " 'customers',\n",
       " 'are',\n",
       " 'happy',\n",
       " ',',\n",
       " 'and',\n",
       " 'your',\n",
       " 'team',\n",
       " 'stays',\n",
       " 'efficient',\n",
       " '.']"
      ]
     },
     "execution_count": 25,
     "metadata": {},
     "output_type": "execute_result"
    }
   ],
   "source": [
    "# treabank tokenization --> it will divide the text into sentences and sentences into words\n",
    "# it will more accurate compare to normal \n",
    "from nltk.tokenize import TreebankWordTokenizer\n",
    "TreebankWordTokenizer().tokenize(corpus)"
   ]
  },
  {
   "cell_type": "code",
   "execution_count": null,
   "id": "d0fa999e",
   "metadata": {},
   "outputs": [],
   "source": []
  }
 ],
 "metadata": {
  "kernelspec": {
   "display_name": "Python 3",
   "language": "python",
   "name": "python3"
  },
  "language_info": {
   "codemirror_mode": {
    "name": "ipython",
    "version": 3
   },
   "file_extension": ".py",
   "mimetype": "text/x-python",
   "name": "python",
   "nbconvert_exporter": "python",
   "pygments_lexer": "ipython3",
   "version": "3.10.11"
  }
 },
 "nbformat": 4,
 "nbformat_minor": 5
}
