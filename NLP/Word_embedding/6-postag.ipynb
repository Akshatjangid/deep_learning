{
 "cells": [
  {
   "cell_type": "markdown",
   "id": "1e9640ff",
   "metadata": {},
   "source": [
    "# Postag"
   ]
  },
  {
   "cell_type": "code",
   "execution_count": 13,
   "id": "43c6e4c0",
   "metadata": {},
   "outputs": [],
   "source": [
    "# it is use to find the part of speech"
   ]
  },
  {
   "cell_type": "code",
   "execution_count": 14,
   "id": "55d17767",
   "metadata": {},
   "outputs": [
    {
     "data": {
      "text/plain": [
       "\"artificial intelligence (ai) represents both a remarkable leap forward in innovation and a significant challenge to societal norms and industries. in healthcare, ai is revolutionizing patient care by enabling more precise diagnostics, personalized treatment plans, and even robotic-assisted surgeries that promise faster recovery times and reduced human error. ai's applications in finance, from algorithmic trading to fraud detection, demonstrate its capacity to enhance efficiency and safeguard assets. in automotive industries, ai-driven autonomous vehicles hold the potential to redefine transportation,\""
      ]
     },
     "execution_count": 14,
     "metadata": {},
     "output_type": "execute_result"
    }
   ],
   "source": [
    "paragraph=\"Artificial Intelligence (AI) represents both a remarkable leap forward in innovation and a significant challenge to societal norms and industries. In healthcare, AI is revolutionizing patient care by enabling more precise diagnostics, personalized treatment plans, and even robotic-assisted surgeries that promise faster recovery times and reduced human error. AI's applications in finance, from algorithmic trading to fraud detection, demonstrate its capacity to enhance efficiency and safeguard assets. In automotive industries, AI-driven autonomous vehicles hold the potential to redefine transportation,\"\n",
    "paragraph=paragraph.lower()\n",
    "paragraph"
   ]
  },
  {
   "cell_type": "code",
   "execution_count": null,
   "id": "41c361f7",
   "metadata": {},
   "outputs": [],
   "source": []
  },
  {
   "cell_type": "code",
   "execution_count": null,
   "id": "53446549",
   "metadata": {},
   "outputs": [],
   "source": []
  },
  {
   "cell_type": "code",
   "execution_count": null,
   "id": "0eb82fd4",
   "metadata": {},
   "outputs": [],
   "source": []
  },
  {
   "cell_type": "code",
   "execution_count": null,
   "id": "30b025a1",
   "metadata": {},
   "outputs": [],
   "source": []
  }
 ],
 "metadata": {
  "kernelspec": {
   "display_name": "Python 3",
   "language": "python",
   "name": "python3"
  },
  "language_info": {
   "codemirror_mode": {
    "name": "ipython",
    "version": 3
   },
   "file_extension": ".py",
   "mimetype": "text/x-python",
   "name": "python",
   "nbconvert_exporter": "python",
   "pygments_lexer": "ipython3",
   "version": "3.10.11"
  }
 },
 "nbformat": 4,
 "nbformat_minor": 5
}
