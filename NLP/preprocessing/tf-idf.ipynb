{
 "cells": [
  {
   "cell_type": "code",
   "execution_count": 1,
   "id": "a0cabe26",
   "metadata": {},
   "outputs": [],
   "source": [
    "## tf--idf\n",
    "## term frequency - inverse "
   ]
  },
  {
   "cell_type": "code",
   "execution_count": 2,
   "id": "4dc7a0d8",
   "metadata": {},
   "outputs": [],
   "source": [
    "from sklearn.feature_extraction.text import TfidfVectorizer\n",
    "vectorizer=TfidfVectorizer()"
   ]
  },
  {
   "cell_type": "code",
   "execution_count": 3,
   "id": "fb4b22b2",
   "metadata": {},
   "outputs": [
    {
     "name": "stdout",
     "output_type": "stream",
     "text": [
      "[[0.78980693 0.         0.61335554]\n",
      " [0.         0.78980693 0.61335554]\n",
      " [0.61980538 0.61980538 0.48133417]]\n",
      "{'good': 2, 'boy': 0, 'girl': 1}\n",
      "[1.28768207 1.28768207 1.        ]\n",
      "['boy' 'girl' 'good']\n"
     ]
    }
   ],
   "source": [
    "doc=['good boy','good girl','boy girl good']\n",
    "print(vectorizer.fit_transform(doc).toarray())\n",
    "print(vectorizer.vocabulary_)\n",
    "print(vectorizer.idf_)\n",
    "# print(vectorizer.get_feature_names())\n",
    "print(vectorizer.get_feature_names_out())"
   ]
  },
  {
   "cell_type": "code",
   "execution_count": 4,
   "id": "4f6b7e91",
   "metadata": {},
   "outputs": [],
   "source": [
    "## wordd embedding --\n",
    "#1. -- count or fre ---- one hot encoding, bow ,ngram, tf-idf\n",
    "#2. -- deep learning pre trained model -- word2vec (cbow and skipgram)\n",
    "# Glove,fastext"
   ]
  },
  {
   "cell_type": "code",
   "execution_count": null,
   "id": "c0707c02",
   "metadata": {},
   "outputs": [],
   "source": [
    "## cosine similiarity "
   ]
  }
 ],
 "metadata": {
  "kernelspec": {
   "display_name": "Python 3",
   "language": "python",
   "name": "python3"
  },
  "language_info": {
   "codemirror_mode": {
    "name": "ipython",
    "version": 3
   },
   "file_extension": ".py",
   "mimetype": "text/x-python",
   "name": "python",
   "nbconvert_exporter": "python",
   "pygments_lexer": "ipython3",
   "version": "3.10.11"
  }
 },
 "nbformat": 4,
 "nbformat_minor": 5
}
