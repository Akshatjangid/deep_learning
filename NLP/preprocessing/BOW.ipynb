{
 "cells": [
  {
   "cell_type": "code",
   "execution_count": 1,
   "id": "3d235d15",
   "metadata": {},
   "outputs": [],
   "source": [
    "from sklearn.feature_extraction.text import CountVectorizer"
   ]
  },
  {
   "cell_type": "code",
   "execution_count": 2,
   "id": "054b8d9a",
   "metadata": {},
   "outputs": [],
   "source": [
    "docs = [\"The sun is shining\", \"The weather is sweet\", \n",
    "        \"The sun is shining, the weather is sweet, and one and one is two\"]"
   ]
  },
  {
   "cell_type": "code",
   "execution_count": 4,
   "id": "58ecfdd2",
   "metadata": {},
   "outputs": [
    {
     "name": "stdout",
     "output_type": "stream",
     "text": [
      "['and' 'is' 'one' 'shining' 'sun' 'sweet' 'the' 'two' 'weather']\n",
      "[[0 1 0 1 1 0 1 0 0]\n",
      " [0 1 0 0 0 1 1 0 1]\n",
      " [2 3 2 1 1 1 2 1 1]]\n"
     ]
    }
   ],
   "source": [
    "VEc=CountVectorizer()\n",
    "x=VEc.fit_transform(docs)\n",
    "# to see the vocabulary\n",
    "# print(vec.vocublary)\n",
    "print(VEc.get_feature_names_out())\n",
    "print(x.toarray())"
   ]
  },
  {
   "cell_type": "code",
   "execution_count": null,
   "id": "78eace08",
   "metadata": {},
   "outputs": [],
   "source": []
  }
 ],
 "metadata": {
  "kernelspec": {
   "display_name": "Python 3",
   "language": "python",
   "name": "python3"
  },
  "language_info": {
   "codemirror_mode": {
    "name": "ipython",
    "version": 3
   },
   "file_extension": ".py",
   "mimetype": "text/x-python",
   "name": "python",
   "nbconvert_exporter": "python",
   "pygments_lexer": "ipython3",
   "version": "3.10.11"
  }
 },
 "nbformat": 4,
 "nbformat_minor": 5
}
