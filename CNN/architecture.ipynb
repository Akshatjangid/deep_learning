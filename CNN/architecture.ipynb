{
 "cells": [
  {
   "cell_type": "markdown",
   "id": "378112eb",
   "metadata": {},
   "source": [
    "# Architecture :-"
   ]
  },
  {
   "cell_type": "markdown",
   "id": "4380313e",
   "metadata": {},
   "source": [
    "# CNN"
   ]
  },
  {
   "cell_type": "markdown",
   "id": "d28b6e1e",
   "metadata": {},
   "source": [
    "<img src=\"img.png\" style=\"width: 15cm; height: auto;\" alt=\"My Image\">\n"
   ]
  },
  {
   "cell_type": "markdown",
   "id": "d53e651b",
   "metadata": {},
   "source": [
    "## 1. convolutional--> Feature extraction-------------- Edge--> Change in intensity  , Feature--> jisse image bani hoti hai\n",
    "## 2. poding--> \n",
    "## 3. Flatter Layer --> 2d arry convert --> 1d array"
   ]
  },
  {
   "cell_type": "markdown",
   "id": "59368cc2",
   "metadata": {},
   "source": [
    "## Edge detection \n",
    "## GSI \n"
   ]
  },
  {
   "cell_type": "markdown",
   "id": "59cca421",
   "metadata": {},
   "source": [
    "### if we have matrix 6 * 6 and filters 3 * 3    so we make a feature of (n-m+1)(n-m+1)    final solution is (6-3+1)(6-3+1)=4*4\n"
   ]
  },
  {
   "cell_type": "markdown",
   "id": "b7e01e10",
   "metadata": {},
   "source": [
    "# Drawbacks"
   ]
  },
  {
   "cell_type": "markdown",
   "id": "1d4a5c99",
   "metadata": {},
   "source": [
    "## 1. memory issue\n",
    "## 2. translation varience --> Important"
   ]
  },
  {
   "cell_type": "markdown",
   "id": "3bed9d1a",
   "metadata": {},
   "source": [
    "# feature --> location Dependent \n"
   ]
  },
  {
   "cell_type": "markdown",
   "id": "da6981bc",
   "metadata": {},
   "source": [
    "# polling --> it's help in Translation Invariance   \n",
    "## working--> Feature Map --> Down sample --> Most Working Imp Feature Extract"
   ]
  },
  {
   "cell_type": "markdown",
   "id": "95cbe15a",
   "metadata": {},
   "source": [
    "# Type of pooling \n",
    "1. Max polling --> Most common usewd\n",
    "2. Min\n",
    "3. Avg\n",
    "4. L2 \n",
    "5. Global --> 1. G max 2. G Avg"
   ]
  },
  {
   "cell_type": "markdown",
   "id": "32722822",
   "metadata": {},
   "source": [
    "when you apply pl you have to tell about these parameters: -->\n",
    "1. kernal size -- .(2,2)\n",
    "2. stride --> 2  (min=2)\n",
    "3. type --> max or min or avg or l2"
   ]
  },
  {
   "cell_type": "markdown",
   "id": "502ec921",
   "metadata": {},
   "source": [
    "<img src=img2.jpg height=400>"
   ]
  },
  {
   "cell_type": "markdown",
   "id": "eea2e17b",
   "metadata": {},
   "source": [
    "## Down sampling   --> important feature extraction (shape size small as compare to normal shape)"
   ]
  },
  {
   "cell_type": "markdown",
   "id": "34664dc8",
   "metadata": {},
   "source": [
    "# padding --> extra space add\n",
    "\n",
    "## Implementation\n",
    "### 1. Same --> \n",
    "### 2. Valid --> "
   ]
  },
  {
   "cell_type": "markdown",
   "id": "ed8e5a81",
   "metadata": {},
   "source": [
    "# CNN --> Classification --> LOSS --> \n",
    "## 1. Binary Classification --> Log Loss\n",
    "## 2. Multi Classification --> Softmax"
   ]
  },
  {
   "cell_type": "markdown",
   "id": "ab802c06",
   "metadata": {},
   "source": []
  }
 ],
 "metadata": {
  "language_info": {
   "name": "python"
  }
 },
 "nbformat": 4,
 "nbformat_minor": 5
}
